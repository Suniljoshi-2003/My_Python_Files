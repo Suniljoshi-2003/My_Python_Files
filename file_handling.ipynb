{
  "nbformat": 4,
  "nbformat_minor": 0,
  "metadata": {
    "colab": {
      "provenance": [],
      "authorship_tag": "ABX9TyO6fWKvh9Ktk6JNtFSDXmZa",
      "include_colab_link": true
    },
    "kernelspec": {
      "name": "python3",
      "display_name": "Python 3"
    },
    "language_info": {
      "name": "python"
    }
  },
  "cells": [
    {
      "cell_type": "markdown",
      "metadata": {
        "id": "view-in-github",
        "colab_type": "text"
      },
      "source": [
        "<a href=\"https://colab.research.google.com/github/Suniljoshi-2003/My_Python_Files/blob/main/file_handling.ipynb\" target=\"_parent\"><img src=\"https://colab.research.google.com/assets/colab-badge.svg\" alt=\"Open In Colab\"/></a>"
      ]
    },
    {
      "cell_type": "markdown",
      "source": [
        "# File Handling\n",
        "# types of data used for I/:\n",
        "#    Text - All program files are text files\n",
        "#    Binary - Images,music,video,exe files.\n",
        "\n",
        "\n",
        "# How file I/O is done is most programming language :\n",
        "# 1. Open file.\n",
        "# 2. Read / Write data.\n",
        "# 3. Close the file.\n",
        "\n",
        "\n",
        "\n",
        "\n"
      ],
      "metadata": {
        "id": "WaO_oWtEJKbJ"
      }
    },
    {
      "cell_type": "markdown",
      "source": [
        "## Writing to file"
      ],
      "metadata": {
        "id": "dSaVPXJZJbYW"
      }
    },
    {
      "cell_type": "code",
      "source": [
        "# case 1 - if the file is not present\n",
        "f = open('sample.txt','w')\n",
        "f.write(\"hello world\")\n",
        "f.close()\n",
        "\n",
        "# since file is closed hence this will not work\n",
        "f.write(\"python\")\n"
      ],
      "metadata": {
        "colab": {
          "base_uri": "https://localhost:8080/",
          "height": 176
        },
        "id": "ifQpZ_6aJVir",
        "outputId": "672b8289-0109-4605-a3ef-d419b9661d64"
      },
      "execution_count": null,
      "outputs": [
        {
          "output_type": "error",
          "ename": "ValueError",
          "evalue": "I/O operation on closed file.",
          "traceback": [
            "\u001b[0;31m---------------------------------------------------------------------------\u001b[0m",
            "\u001b[0;31mValueError\u001b[0m                                Traceback (most recent call last)",
            "\u001b[0;32m<ipython-input-3-bd365b9cfddc>\u001b[0m in \u001b[0;36m<cell line: 5>\u001b[0;34m()\u001b[0m\n\u001b[1;32m      3\u001b[0m \u001b[0mf\u001b[0m\u001b[0;34m.\u001b[0m\u001b[0mwrite\u001b[0m\u001b[0;34m(\u001b[0m\u001b[0;34m\"hello world\"\u001b[0m\u001b[0;34m)\u001b[0m\u001b[0;34m\u001b[0m\u001b[0;34m\u001b[0m\u001b[0m\n\u001b[1;32m      4\u001b[0m \u001b[0mf\u001b[0m\u001b[0;34m.\u001b[0m\u001b[0mclose\u001b[0m\u001b[0;34m(\u001b[0m\u001b[0;34m)\u001b[0m\u001b[0;34m\u001b[0m\u001b[0;34m\u001b[0m\u001b[0m\n\u001b[0;32m----> 5\u001b[0;31m \u001b[0mf\u001b[0m\u001b[0;34m.\u001b[0m\u001b[0mwrite\u001b[0m\u001b[0;34m(\u001b[0m\u001b[0;34m\"python\"\u001b[0m\u001b[0;34m)\u001b[0m\u001b[0;34m\u001b[0m\u001b[0;34m\u001b[0m\u001b[0m\n\u001b[0m",
            "\u001b[0;31mValueError\u001b[0m: I/O operation on closed file."
          ]
        }
      ]
    },
    {
      "cell_type": "code",
      "source": [
        "# write multline strings\n",
        "\n",
        "f = open(\"sample1.txt\",'w')\n",
        "f.write(\"Hello world\")\n",
        "f.write(\"\\nhow are you\")\n",
        "f.close()"
      ],
      "metadata": {
        "id": "uqTt-LMfJre2"
      },
      "execution_count": null,
      "outputs": []
    },
    {
      "cell_type": "code",
      "source": [
        "# case 2 - if the file is already present\n",
        "f = open ('sample.txt','w')\n",
        "f.write('salman khan')\n",
        "f.close()\n",
        "# exesting file kea uper write krte hain toh old contan hat jata hai or new contant aa jata hain.\n"
      ],
      "metadata": {
        "id": "KiaVaPZuKyNi"
      },
      "execution_count": null,
      "outputs": []
    },
    {
      "cell_type": "code",
      "source": [
        "# how exactly open() workd?\n",
        "\"\"\"\n",
        " file.open() -->\n",
        "# sample.txt --> Hard Drive --> ROM\n",
        "     python --> file --> RAM lode --->\n",
        " BUffer memory - Read , Write, Open\n",
        "# file.close --->\n",
        "     File --> hard drive.\n",
        "\"\"\""
      ],
      "metadata": {
        "colab": {
          "base_uri": "https://localhost:8080/",
          "height": 53
        },
        "id": "5d532-ZiLjXZ",
        "outputId": "c1604640-9dcb-4638-f47a-1b668f5edcfe"
      },
      "execution_count": null,
      "outputs": [
        {
          "output_type": "execute_result",
          "data": {
            "text/plain": [
              "'\\n file.open() --> \\n# sample.txt --> Hard Drive --> ROM \\n     python --> file --> RAM lode --->\\n BUffer memory - Read , Write, Open\\n# file.close --->\\n     File --> hard drive.\\n'"
            ],
            "application/vnd.google.colaboratory.intrinsic+json": {
              "type": "string"
            }
          },
          "metadata": {},
          "execution_count": 10
        }
      ]
    },
    {
      "cell_type": "code",
      "source": [
        "# Problem with w mode\n",
        "# introducing append mode\n",
        "\n",
        "f = open('/content/sample1.txt','a') # a is append\n",
        "f.write(\"\\nI am fine\")\n",
        "f.close()\n",
        "# old contant is not replace"
      ],
      "metadata": {
        "id": "6tBlCcY4M3MF"
      },
      "execution_count": null,
      "outputs": []
    },
    {
      "cell_type": "code",
      "source": [
        "# write lines\n",
        "l=['Hello\\n','hi\\n','how are you\\n','I am file']\n",
        "\n",
        "f = open('/content/sample.txt','w')\n",
        "f.writelines(l)\n",
        "f.close()"
      ],
      "metadata": {
        "id": "pAIdpAP6NtbO"
      },
      "execution_count": null,
      "outputs": []
    },
    {
      "cell_type": "code",
      "source": [
        "# file.close\n",
        "# 1. Memory save\n",
        "# 2. another person file not excess / Hack"
      ],
      "metadata": {
        "id": "uq4Ihq9hOegi"
      },
      "execution_count": null,
      "outputs": []
    },
    {
      "cell_type": "code",
      "source": [
        "# reding from files\n",
        "# --> using read()\n",
        "f = open('sample.txt','r') # r is read\n",
        "s = f.read()\n",
        "print(s)\n",
        "f.close()"
      ],
      "metadata": {
        "colab": {
          "base_uri": "https://localhost:8080/"
        },
        "id": "-0IOsmBXPdZM",
        "outputId": "b8b39ee5-da05-45d6-f069-9884a262649d"
      },
      "execution_count": null,
      "outputs": [
        {
          "output_type": "stream",
          "name": "stdout",
          "text": [
            "Hello\n",
            "hi\n",
            "how are you\n",
            "I am file\n"
          ]
        }
      ]
    },
    {
      "cell_type": "code",
      "source": [
        "# reading upto n chars\n",
        "f = open('sample.txt','r') # r is read\n",
        "s = f.read(10)\n",
        "print(s)\n",
        "f.close()"
      ],
      "metadata": {
        "colab": {
          "base_uri": "https://localhost:8080/"
        },
        "id": "OhHfI2OWQQdS",
        "outputId": "d2619634-432e-4e4b-e6ad-9c7f7b70b08e"
      },
      "execution_count": null,
      "outputs": [
        {
          "output_type": "stream",
          "name": "stdout",
          "text": [
            "Hello\n",
            "hi\n",
            "h\n"
          ]
        }
      ]
    },
    {
      "cell_type": "code",
      "source": [
        "# readline()) --> to read line by line\n",
        "f = open('/content/sample.txt','r')\n",
        "print(f.readline(),end='')\n",
        "print(f.readline(), end='')\n",
        "f.close()"
      ],
      "metadata": {
        "colab": {
          "base_uri": "https://localhost:8080/"
        },
        "id": "21ClPyqOQgGd",
        "outputId": "2dcf877c-ed69-4ef5-8694-b6c0dd5c03d8"
      },
      "execution_count": null,
      "outputs": [
        {
          "output_type": "stream",
          "name": "stdout",
          "text": [
            "Hello\n",
            "hi\n"
          ]
        }
      ]
    },
    {
      "cell_type": "code",
      "source": [
        "# reading entre using readline\n",
        "f = open('/content/sample.txt','r')\n",
        "\n",
        "while True:\n",
        "\n",
        "  data = f.readline()\n",
        "\n",
        "  if data == '':\n",
        "    break\n",
        "  else:\n",
        "    print(data,end='')\n",
        "\n",
        "f.close()"
      ],
      "metadata": {
        "colab": {
          "base_uri": "https://localhost:8080/"
        },
        "id": "xEwsgSZvR0F4",
        "outputId": "0afc31b3-564f-43ec-a4d4-45e20d640f8f"
      },
      "execution_count": null,
      "outputs": [
        {
          "output_type": "stream",
          "name": "stdout",
          "text": [
            "Hello\n",
            "hi\n",
            "how are you\n",
            "I am file"
          ]
        }
      ]
    },
    {
      "cell_type": "markdown",
      "source": [
        "Using Context Manger (With)\n",
        "\n",
        "\n",
        "*   its a good idea to close a file usage as it will free up the resources\n",
        "*   if we dont close it, garbage collector would close it\n",
        "*   with  keyword closes the file as soon as the usage is over\n",
        "\n",
        "\n",
        "\n"
      ],
      "metadata": {
        "id": "xXYOQSN9UCNK"
      }
    },
    {
      "cell_type": "code",
      "source": [
        "# with\n",
        "with open('/content/sample1.txt','w') as f:\n",
        "  f.write('selmon Bhai')\n"
      ],
      "metadata": {
        "id": "s2EnW4K9UtK_"
      },
      "execution_count": null,
      "outputs": []
    },
    {
      "cell_type": "code",
      "source": [
        "f.write('hello')"
      ],
      "metadata": {
        "colab": {
          "base_uri": "https://localhost:8080/",
          "height": 141
        },
        "id": "8nnkqfg1VRfQ",
        "outputId": "69e3fc85-f4b4-4781-cab5-ce01e256565b"
      },
      "execution_count": null,
      "outputs": [
        {
          "output_type": "error",
          "ename": "ValueError",
          "evalue": "I/O operation on closed file.",
          "traceback": [
            "\u001b[0;31m---------------------------------------------------------------------------\u001b[0m",
            "\u001b[0;31mValueError\u001b[0m                                Traceback (most recent call last)",
            "\u001b[0;32m<ipython-input-27-00cba062fa3d>\u001b[0m in \u001b[0;36m<cell line: 1>\u001b[0;34m()\u001b[0m\n\u001b[0;32m----> 1\u001b[0;31m \u001b[0mf\u001b[0m\u001b[0;34m.\u001b[0m\u001b[0mwrite\u001b[0m\u001b[0;34m(\u001b[0m\u001b[0;34m'hello'\u001b[0m\u001b[0;34m)\u001b[0m\u001b[0;34m\u001b[0m\u001b[0;34m\u001b[0m\u001b[0m\n\u001b[0m",
            "\u001b[0;31mValueError\u001b[0m: I/O operation on closed file."
          ]
        }
      ]
    },
    {
      "cell_type": "code",
      "source": [
        "# try f.read() now\n",
        "with open('/content/sample.txt','r') as f:\n",
        "  print(f.read())"
      ],
      "metadata": {
        "colab": {
          "base_uri": "https://localhost:8080/"
        },
        "id": "eiTeMM1WVUMc",
        "outputId": "4898b70f-3133-4c2c-8678-d868f6676102"
      },
      "execution_count": null,
      "outputs": [
        {
          "output_type": "stream",
          "name": "stdout",
          "text": [
            "Hello\n",
            "hi\n",
            "how are you\n",
            "I am file\n"
          ]
        }
      ]
    },
    {
      "cell_type": "code",
      "source": [
        "# moving within a file --> 10 char than 10 char\n",
        "with open(\"sample.txt\",'r') as f:\n",
        "  print(f.read(10))\n",
        "\n",
        "  print(f.read(10))"
      ],
      "metadata": {
        "colab": {
          "base_uri": "https://localhost:8080/"
        },
        "id": "5g1vUZb0V4Nk",
        "outputId": "7a615512-023e-4e73-ddfd-5be7815d00c1"
      },
      "execution_count": null,
      "outputs": [
        {
          "output_type": "stream",
          "name": "stdout",
          "text": [
            "Hello\n",
            "hi\n",
            "h\n",
            "ow are you\n"
          ]
        }
      ]
    },
    {
      "cell_type": "code",
      "source": [
        "# benefit? -> to lode a big file in memory\n",
        "big_L = ['Hello world' for i in range(1000)]\n",
        "\n",
        "with open('big.txt','w') as f:\n",
        "  f.writelines(big_L)"
      ],
      "metadata": {
        "id": "fdF3ftoOZpl-"
      },
      "execution_count": null,
      "outputs": []
    },
    {
      "cell_type": "code",
      "source": [
        "with open('big.txt','r') as f:\n",
        "\n",
        "  chunk_size = 10\n",
        "\n",
        "  while len(f.read(chunk_size)) > 0:\n",
        "    print(f.read(chunk_size),end='**')\n",
        "    f.read(chunk_size)"
      ],
      "metadata": {
        "colab": {
          "base_uri": "https://localhost:8080/"
        },
        "id": "b3r4RvSeaa0A",
        "outputId": "ec7ae9e3-ceb1-4fe5-9472-da7b8ad77734"
      },
      "execution_count": null,
      "outputs": [
        {
          "output_type": "stream",
          "name": "stdout",
          "text": [
            "dHello wor**orldHello **o worldHel**ello world**ldHello wo**worldHello**lo worldHe**Hello worl**rldHello w** worldHell**llo worldH**dHello wor**orldHello **o worldHel**ello world**ldHello wo**worldHello**lo worldHe**Hello worl**rldHello w** worldHell**llo worldH**dHello wor**orldHello **o worldHel**ello world**ldHello wo**worldHello**lo worldHe**Hello worl**rldHello w** worldHell**llo worldH**dHello wor**orldHello **o worldHel**ello world**ldHello wo**worldHello**lo worldHe**Hello worl**rldHello w** worldHell**llo worldH**dHello wor**orldHello **o worldHel**ello world**ldHello wo**worldHello**lo worldHe**Hello worl**rldHello w** worldHell**llo worldH**dHello wor**orldHello **o worldHel**ello world**ldHello wo**worldHello**lo worldHe**Hello worl**rldHello w** worldHell**llo worldH**dHello wor**orldHello **o worldHel**ello world**ldHello wo**worldHello**lo worldHe**Hello worl**rldHello w** worldHell**llo worldH**dHello wor**orldHello **o worldHel**ello world**ldHello wo**worldHello**lo worldHe**Hello worl**rldHello w** worldHell**llo worldH**dHello wor**orldHello **o worldHel**ello world**ldHello wo**worldHello**lo worldHe**Hello worl**rldHello w** worldHell**llo worldH**dHello wor**orldHello **o worldHel**ello world**ldHello wo**worldHello**lo worldHe**Hello worl**rldHello w** worldHell**llo worldH**dHello wor**orldHello **o worldHel**ello world**ldHello wo**worldHello**lo worldHe**Hello worl**rldHello w** worldHell**llo worldH**dHello wor**orldHello **o worldHel**ello world**ldHello wo**worldHello**lo worldHe**Hello worl**rldHello w** worldHell**llo worldH**dHello wor**orldHello **o worldHel**ello world**ldHello wo**worldHello**lo worldHe**Hello worl**rldHello w** worldHell**llo worldH**dHello wor**orldHello **o worldHel**ello world**ldHello wo**worldHello**lo worldHe**Hello worl**rldHello w** worldHell**llo worldH**dHello wor**orldHello **o worldHel**ello world**ldHello wo**worldHello**lo worldHe**Hello worl**rldHello w** worldHell**llo worldH**dHello wor**orldHello **o worldHel**ello world**ldHello wo**worldHello**lo worldHe**Hello worl**rldHello w** worldHell**llo worldH**dHello wor**orldHello **o worldHel**ello world**ldHello wo**worldHello**lo worldHe**Hello worl**rldHello w** worldHell**llo worldH**dHello wor**orldHello **o worldHel**ello world**ldHello wo**worldHello**lo worldHe**Hello worl**rldHello w** worldHell**llo worldH**dHello wor**orldHello **o worldHel**ello world**ldHello wo**worldHello**lo worldHe**Hello worl**rldHello w** worldHell**llo worldH**dHello wor**orldHello **o worldHel**ello world**ldHello wo**worldHello**lo worldHe**Hello worl**rldHello w** worldHell**llo worldH**dHello wor**orldHello **o worldHel**ello world**ldHello wo**worldHello**lo worldHe**Hello worl**rldHello w** worldHell**llo worldH**dHello wor**orldHello **o worldHel**ello world**ldHello wo**worldHello**lo worldHe**Hello worl**rldHello w** worldHell**llo worldH**dHello wor**orldHello **o worldHel**ello world**ldHello wo**worldHello**lo worldHe**Hello worl**rldHello w** worldHell**llo worldH**dHello wor**orldHello **o worldHel**ello world**ldHello wo**worldHello**lo worldHe**Hello worl**rldHello w** worldHell**llo worldH**dHello wor**orldHello **o worldHel**ello world**ldHello wo**worldHello**lo worldHe**Hello worl**rldHello w** worldHell**llo worldH**dHello wor**orldHello **o worldHel**ello world**ldHello wo**worldHello**lo worldHe**Hello worl**rldHello w** worldHell**llo worldH**dHello wor**orldHello **o worldHel**ello world**ldHello wo**worldHello**lo worldHe**Hello worl**rldHello w** worldHell**llo worldH**dHello wor**orldHello **o worldHel**ello world**ldHello wo**worldHello**lo worldHe**Hello worl**rldHello w** worldHell**llo worldH**dHello wor**orldHello **o worldHel**ello world**ldHello wo**worldHello**lo worldHe**Hello worl**rldHello w** worldHell**llo worldH**dHello wor**orldHello **o worldHel**ello world**ldHello wo**worldHello**lo worldHe**Hello worl**rldHello w** worldHell**llo worldH**dHello wor**orldHello **o worldHel**ello world**ldHello wo**worldHello**lo worldHe**Hello worl**rldHello w** worldHell**llo worldH**dHello wor**orldHello **o worldHel**ello world**ldHello wo**worldHello**lo worldHe**Hello worl**rldHello w** worldHell**llo worldH**dHello wor**orldHello **o worldHel**ello world**ldHello wo**worldHello**lo worldHe**Hello worl**rldHello w** worldHell**llo worldH**dHello wor**orldHello **o worldHel**ello world**"
          ]
        }
      ]
    }
  ]
}